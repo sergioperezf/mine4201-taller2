{
 "cells": [
  {
   "cell_type": "code",
   "execution_count": null,
   "metadata": {},
   "outputs": [],
   "source": [
    "import seaborn as sns\n",
    "import numpy as np\n",
    "import matplotlib.pyplot as plt\n",
    "import pandas as pd\n",
    "\n",
    "from surprise import SVD\n",
    "from surprise import Reader\n",
    "from surprise import Dataset\n",
    "from surprise import evaluate, print_perf\n",
    "from surprise import accuracy\n",
    "from sklearn import cross_validation as cv\n",
    "\n",
    "%matplotlib inline"
   ]
  },
  {
   "cell_type": "code",
   "execution_count": null,
   "metadata": {},
   "outputs": [],
   "source": [
    "df = pd.read_csv( './toronto_reviews.csv')"
   ]
  },
  {
   "cell_type": "code",
   "execution_count": null,
   "metadata": {},
   "outputs": [],
   "source": [
    "df2 = df[[ 'user_id', 'business_id', 'stars'] ]"
   ]
  },
  {
   "cell_type": "code",
   "execution_count": null,
   "metadata": {},
   "outputs": [],
   "source": [
    "train_df, test_df = cv.train_test_split(df2, test_size=0.4)"
   ]
  },
  {
   "cell_type": "code",
   "execution_count": null,
   "metadata": {},
   "outputs": [],
   "source": [
    "# Se establece el rango en el cual se aceptaran los ratings\n",
    "reader = Reader( rating_scale = ( 1, 5 ) )"
   ]
  },
  {
   "cell_type": "code",
   "execution_count": null,
   "metadata": {},
   "outputs": [],
   "source": [
    "# Transformación de los datasets, puede leer los datasets directameente desde el disco sin necesidad de pasar por pandas\n",
    "train_data = Dataset.load_from_df( train_df[ [ 'user_id', 'business_id', 'stars' ] ], reader )\n",
    "#validation_data = Dataset.load_from_df( validation_df[ [ 'user_id', 'item_id', 'rating' ] ], reader )\n",
    "test_data = Dataset.load_from_df( test_df[ [ 'user_id', 'business_id', 'stars' ] ], reader )"
   ]
  },
  {
   "cell_type": "code",
   "execution_count": null,
   "metadata": {},
   "outputs": [],
   "source": [
    "# Surprise requiere que explicitamente los datasets sean transformados a datasets de entrenamiento y prueba en cada caso \n",
    "# Si bien no se entrenará sobre los datasets de validación y prueba, surprise requiere que sean tranformados a entrenamiento para posteriormente ser transformados a prueba\n",
    "train_data = train_data.build_full_trainset()\n",
    "#validation_data = validation_data.build_full_trainset()\n",
    "test_data = test_data.build_full_trainset()"
   ]
  },
  {
   "cell_type": "code",
   "execution_count": null,
   "metadata": {},
   "outputs": [],
   "source": [
    "# Finalmente, se convierten los 3 datasets a prueba ya que se medirá el error obtenido en los 3\n",
    "train_data_2 = train_data.build_testset()\n",
    "#validation_data = validation_data.build_testset()\n",
    "test_data = test_data.build_testset()"
   ]
  },
  {
   "cell_type": "code",
   "execution_count": null,
   "metadata": {},
   "outputs": [],
   "source": [
    "mean = train_data.global_mean\n",
    "print( mean )"
   ]
  },
  {
   "cell_type": "code",
   "execution_count": null,
   "metadata": {},
   "outputs": [],
   "source": [
    "algo = SVD( n_factors = 5, n_epochs = 200, biased = True, lr_all = 0.005, reg_all = 0, init_mean = 0, init_std_dev = 0.01, verbose = False )"
   ]
  },
  {
   "cell_type": "code",
   "execution_count": null,
   "metadata": {},
   "outputs": [],
   "source": [
    "# Se realiza el entrenamiento a partir del dataset debido\n",
    "algo.fit( train_data )"
   ]
  },
  {
   "cell_type": "code",
   "execution_count": null,
   "metadata": {},
   "outputs": [],
   "source": [
    "reconstruct = ( pu ).dot( ( qi ).T ) + bu + bi.T + mean"
   ]
  },
  {
   "cell_type": "code",
   "execution_count": null,
   "metadata": {},
   "outputs": [],
   "source": [
    "# Ya que algunos ratings reconstruidos están fuera del rango aceptado, se realiza un ajuste entre 1 y 5\n",
    "reconstruct = np.clip( reconstruct, 1, 5 )"
   ]
  },
  {
   "cell_type": "markdown",
   "metadata": {},
   "source": [
    "## Evaluación de predicciones\n",
    "\n",
    "A partir del modelo entrenado, se mide el error del modelo en el conjunto de entrenamiento, validación y prueba"
   ]
  },
  {
   "cell_type": "code",
   "execution_count": null,
   "metadata": {},
   "outputs": [],
   "source": [
    "predictions_train = algo.test( train_data_2 )"
   ]
  },
  {
   "cell_type": "code",
   "execution_count": null,
   "metadata": {},
   "outputs": [],
   "source": [
    "#predictions_validation = algo.test( validation_data )\n",
    "predictions_test = algo.test( test_data )"
   ]
  },
  {
   "cell_type": "code",
   "execution_count": null,
   "metadata": {},
   "outputs": [],
   "source": [
    "accuracy.rmse( predictions_train, verbose = True )"
   ]
  },
  {
   "cell_type": "code",
   "execution_count": null,
   "metadata": {
    "scrolled": true
   },
   "outputs": [],
   "source": [
    "accuracy.rmse( predictions_test, verbose = True )"
   ]
  },
  {
   "cell_type": "markdown",
   "metadata": {},
   "source": [
    "## Selección de hiper-parámetros\n",
    "\n",
    "Seleccionar diferentes hiperparametros."
   ]
  },
  {
   "cell_type": "code",
   "execution_count": null,
   "metadata": {
    "scrolled": false
   },
   "outputs": [],
   "source": [
    "algos = {}\n",
    "for i in range(5, 21):\n",
    "    algos[i] = SVD( n_factors = i, n_epochs = 200, biased = True, lr_all = 0.005, reg_all = 0, init_mean = 0, init_std_dev = 0.01, verbose = False )\n",
    "    algos[i].train(train_data)\n"
   ]
  },
  {
   "cell_type": "code",
   "execution_count": null,
   "metadata": {},
   "outputs": [],
   "source": [
    "predictions_train = {}\n",
    "#predictions_validation = {}\n",
    "predictions_test = {}\n",
    "rmses_train = {}\n",
    "#rmses_validation = {}\n",
    "rmses_test = {}\n",
    "for i in range(5, 21):\n",
    "    predictions_train[i] = algos[i].test(train_data_2)\n",
    "    #predictions_validation[i] = algos[i].test(validation_data)\n",
    "    predictions_test[i] = algos[i].test(test_data)\n",
    "    rmses_train[i] = accuracy.rmse( predictions_train[i], verbose = True )\n",
    "    #rmses_validation[i] = accuracy.rmse( predictions_validation[i], verbose = True )\n",
    "    rmses_test[i] = accuracy.rmse( predictions_test[i], verbose = True )"
   ]
  },
  {
   "cell_type": "code",
   "execution_count": null,
   "metadata": {},
   "outputs": [],
   "source": [
    "plt.plot(rmses_train.keys(), rmses_train.values())"
   ]
  },
  {
   "cell_type": "code",
   "execution_count": null,
   "metadata": {},
   "outputs": [],
   "source": [
    "algosr = {}\n",
    "for r in [0.001, 0.1, 0.5, 1, 10]:\n",
    "    algosr[r] = SVD( n_factors = 5, n_epochs = 200, biased = True, lr_all = 0.005, reg_all = r, init_mean = 0, init_std_dev = 0.01, verbose = True )\n",
    "    algosr[r].train(train_data)\n"
   ]
  },
  {
   "cell_type": "code",
   "execution_count": null,
   "metadata": {},
   "outputs": [],
   "source": [
    "predictions_train = {}\n",
    "#predictions_validation = {}\n",
    "predictions_test = {}\n",
    "rmses_train = {}\n",
    "#rmses_validation = {}\n",
    "rmses_test = {}\n",
    "for i in [0.001, 0.1, 0.5, 1, 10]:\n",
    "    predictions_train[i] = algosr[i].test(train_data_2)\n",
    "    #predictions_validation[i] = algosr[i].test(validation_data)\n",
    "    predictions_test[i] = algosr[i].test(test_data)\n",
    "    rmses_train[i] = accuracy.rmse( predictions_train[i], verbose = True )\n",
    "    #rmses_validation[i] = accuracy.rmse( predictions_validation[i], verbose = True )\n",
    "    rmses_test[i] = accuracy.rmse( predictions_test[i], verbose = True )"
   ]
  },
  {
   "cell_type": "code",
   "execution_count": null,
   "metadata": {},
   "outputs": [],
   "source": [
    "plt.plot(rmses_train.keys(), rmses_train.values())\n",
    "\n",
    "\n"
   ]
  },
  {
   "cell_type": "code",
   "execution_count": null,
   "metadata": {},
   "outputs": [],
   "source": [
    "plt.plot(rmses_test.keys(), rmses_test.values())"
   ]
  }
 ],
 "metadata": {
  "anaconda-cloud": {},
  "celltoolbar": "Raw Cell Format",
  "kernelspec": {
   "display_name": "Python 3",
   "language": "python",
   "name": "python3"
  },
  "language_info": {
   "codemirror_mode": {
    "name": "ipython",
    "version": 3
   },
   "file_extension": ".py",
   "mimetype": "text/x-python",
   "name": "python",
   "nbconvert_exporter": "python",
   "pygments_lexer": "ipython3",
   "version": "3.6.4"
  }
 },
 "nbformat": 4,
 "nbformat_minor": 1
}
